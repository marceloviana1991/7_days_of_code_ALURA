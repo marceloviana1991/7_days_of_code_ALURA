{
 "cells": [
  {
   "cell_type": "code",
   "execution_count": 126,
   "id": "0381cec4",
   "metadata": {},
   "outputs": [],
   "source": [
    "import pandas as pd\n",
    "import math\n",
    "import matplotlib.pyplot as plt"
   ]
  },
  {
   "cell_type": "markdown",
   "id": "4a774290",
   "metadata": {},
   "source": [
    "# Teste A/B"
   ]
  },
  {
   "cell_type": "code",
   "execution_count": 127,
   "id": "4e7e563b",
   "metadata": {},
   "outputs": [
    {
     "data": {
      "text/html": [
       "<div>\n",
       "<style scoped>\n",
       "    .dataframe tbody tr th:only-of-type {\n",
       "        vertical-align: middle;\n",
       "    }\n",
       "\n",
       "    .dataframe tbody tr th {\n",
       "        vertical-align: top;\n",
       "    }\n",
       "\n",
       "    .dataframe thead th {\n",
       "        text-align: right;\n",
       "    }\n",
       "</style>\n",
       "<table border=\"1\" class=\"dataframe\">\n",
       "  <thead>\n",
       "    <tr style=\"text-align: right;\">\n",
       "      <th></th>\n",
       "      <th>user_id</th>\n",
       "      <th>timestamp</th>\n",
       "      <th>group</th>\n",
       "      <th>landing_page</th>\n",
       "      <th>converted</th>\n",
       "    </tr>\n",
       "  </thead>\n",
       "  <tbody>\n",
       "    <tr>\n",
       "      <th>0</th>\n",
       "      <td>851104</td>\n",
       "      <td>2017-01-21 22:11:48.556739</td>\n",
       "      <td>control</td>\n",
       "      <td>old_page</td>\n",
       "      <td>0</td>\n",
       "    </tr>\n",
       "    <tr>\n",
       "      <th>1</th>\n",
       "      <td>804228</td>\n",
       "      <td>2017-01-12 08:01:45.159739</td>\n",
       "      <td>control</td>\n",
       "      <td>old_page</td>\n",
       "      <td>0</td>\n",
       "    </tr>\n",
       "    <tr>\n",
       "      <th>2</th>\n",
       "      <td>661590</td>\n",
       "      <td>2017-01-11 16:55:06.154213</td>\n",
       "      <td>treatment</td>\n",
       "      <td>new_page</td>\n",
       "      <td>0</td>\n",
       "    </tr>\n",
       "    <tr>\n",
       "      <th>3</th>\n",
       "      <td>853541</td>\n",
       "      <td>2017-01-08 18:28:03.143765</td>\n",
       "      <td>treatment</td>\n",
       "      <td>new_page</td>\n",
       "      <td>0</td>\n",
       "    </tr>\n",
       "    <tr>\n",
       "      <th>4</th>\n",
       "      <td>864975</td>\n",
       "      <td>2017-01-21 01:52:26.210827</td>\n",
       "      <td>control</td>\n",
       "      <td>old_page</td>\n",
       "      <td>1</td>\n",
       "    </tr>\n",
       "    <tr>\n",
       "      <th>...</th>\n",
       "      <td>...</td>\n",
       "      <td>...</td>\n",
       "      <td>...</td>\n",
       "      <td>...</td>\n",
       "      <td>...</td>\n",
       "    </tr>\n",
       "    <tr>\n",
       "      <th>294473</th>\n",
       "      <td>751197</td>\n",
       "      <td>2017-01-03 22:28:38.630509</td>\n",
       "      <td>control</td>\n",
       "      <td>old_page</td>\n",
       "      <td>0</td>\n",
       "    </tr>\n",
       "    <tr>\n",
       "      <th>294474</th>\n",
       "      <td>945152</td>\n",
       "      <td>2017-01-12 00:51:57.078372</td>\n",
       "      <td>control</td>\n",
       "      <td>old_page</td>\n",
       "      <td>0</td>\n",
       "    </tr>\n",
       "    <tr>\n",
       "      <th>294475</th>\n",
       "      <td>734608</td>\n",
       "      <td>2017-01-22 11:45:03.439544</td>\n",
       "      <td>control</td>\n",
       "      <td>old_page</td>\n",
       "      <td>0</td>\n",
       "    </tr>\n",
       "    <tr>\n",
       "      <th>294476</th>\n",
       "      <td>697314</td>\n",
       "      <td>2017-01-15 01:20:28.957438</td>\n",
       "      <td>control</td>\n",
       "      <td>old_page</td>\n",
       "      <td>0</td>\n",
       "    </tr>\n",
       "    <tr>\n",
       "      <th>294477</th>\n",
       "      <td>715931</td>\n",
       "      <td>2017-01-16 12:40:24.467417</td>\n",
       "      <td>treatment</td>\n",
       "      <td>new_page</td>\n",
       "      <td>0</td>\n",
       "    </tr>\n",
       "  </tbody>\n",
       "</table>\n",
       "<p>294478 rows × 5 columns</p>\n",
       "</div>"
      ],
      "text/plain": [
       "        user_id                   timestamp      group landing_page  converted\n",
       "0        851104  2017-01-21 22:11:48.556739    control     old_page          0\n",
       "1        804228  2017-01-12 08:01:45.159739    control     old_page          0\n",
       "2        661590  2017-01-11 16:55:06.154213  treatment     new_page          0\n",
       "3        853541  2017-01-08 18:28:03.143765  treatment     new_page          0\n",
       "4        864975  2017-01-21 01:52:26.210827    control     old_page          1\n",
       "...         ...                         ...        ...          ...        ...\n",
       "294473   751197  2017-01-03 22:28:38.630509    control     old_page          0\n",
       "294474   945152  2017-01-12 00:51:57.078372    control     old_page          0\n",
       "294475   734608  2017-01-22 11:45:03.439544    control     old_page          0\n",
       "294476   697314  2017-01-15 01:20:28.957438    control     old_page          0\n",
       "294477   715931  2017-01-16 12:40:24.467417  treatment     new_page          0\n",
       "\n",
       "[294478 rows x 5 columns]"
      ]
     },
     "execution_count": 127,
     "metadata": {},
     "output_type": "execute_result"
    }
   ],
   "source": [
    "pd.read_csv('dados_sexto_dia/ab_data.csv')"
   ]
  },
  {
   "cell_type": "code",
   "execution_count": 128,
   "id": "7dc5c66c",
   "metadata": {},
   "outputs": [],
   "source": [
    "dados = pd.read_csv('dados_sexto_dia/ab_data.csv')"
   ]
  },
  {
   "cell_type": "code",
   "execution_count": 129,
   "id": "86bb64a0",
   "metadata": {},
   "outputs": [
    {
     "data": {
      "text/plain": [
       "user_id          int64\n",
       "timestamp       object\n",
       "group           object\n",
       "landing_page    object\n",
       "converted        int64\n",
       "dtype: object"
      ]
     },
     "execution_count": 129,
     "metadata": {},
     "output_type": "execute_result"
    }
   ],
   "source": [
    "dados.dtypes"
   ]
  },
  {
   "cell_type": "code",
   "execution_count": 130,
   "id": "b44b1247",
   "metadata": {},
   "outputs": [],
   "source": [
    "dados['timestamp'] = pd.to_datetime(dados['timestamp'])"
   ]
  },
  {
   "cell_type": "code",
   "execution_count": 131,
   "id": "6daac890",
   "metadata": {},
   "outputs": [
    {
     "data": {
      "text/plain": [
       "user_id                  int64\n",
       "timestamp       datetime64[ns]\n",
       "group                   object\n",
       "landing_page            object\n",
       "converted                int64\n",
       "dtype: object"
      ]
     },
     "execution_count": 131,
     "metadata": {},
     "output_type": "execute_result"
    }
   ],
   "source": [
    "dados.dtypes"
   ]
  },
  {
   "cell_type": "code",
   "execution_count": 132,
   "id": "43dd0dcd",
   "metadata": {},
   "outputs": [],
   "source": [
    "old_page = dados[dados['landing_page']=='old_page']\\\n",
    ".groupby(pd.Grouper(key='timestamp',freq='D')).sum()['converted']\n",
    "old_page = pd.DataFrame(old_page)"
   ]
  },
  {
   "cell_type": "code",
   "execution_count": 133,
   "id": "d7462ef4",
   "metadata": {
    "scrolled": true
   },
   "outputs": [],
   "source": [
    "new_page = dados[dados['landing_page']=='new_page']\\\n",
    ".groupby(pd.Grouper(key='timestamp',freq='D')).sum()['converted']\n",
    "new_page = pd.DataFrame(new_page)"
   ]
  },
  {
   "cell_type": "code",
   "execution_count": 134,
   "id": "4f69ec16",
   "metadata": {},
   "outputs": [],
   "source": [
    "diferenca = new_page - old_page"
   ]
  },
  {
   "cell_type": "code",
   "execution_count": 135,
   "id": "645b4e2e",
   "metadata": {},
   "outputs": [
    {
     "name": "stderr",
     "output_type": "stream",
     "text": [
      "No artists with labels found to put in legend.  Note that artists whose label start with an underscore are ignored when legend() is called with no argument.\n"
     ]
    },
    {
     "data": {
      "text/plain": [
       "<matplotlib.legend.Legend at 0x7f2eb7fc7ee0>"
      ]
     },
     "execution_count": 135,
     "metadata": {},
     "output_type": "execute_result"
    },
    {
     "data": {
      "image/png": "[encoded data removed]",
      "text/plain": [
       "<Figure size 2000x700 with 1 Axes>"
      ]
     },
     "metadata": {},
     "output_type": "display_data"
    }
   ],
   "source": [
    "plt.figure(figsize=(20,7))\n",
    "plt.plot(diferenca)\n",
    "plt.title('Difença diária de conversões entre a página nova e a antiga', fontsize=22)\n",
    "plt.legend(fontsize=18)"
   ]
  },
  {
   "cell_type": "markdown",
   "id": "1be2a6c3",
   "metadata": {},
   "source": [
    "### CONCLUSÃO\n",
    "Analisando o gráfico obtido, suspeita-se que caso exista alguma diferença entre as quantidades de conversões, esse diferença seja proveniente de um comportamento ocilatório.\n",
    "\n",
    "Um segunda opção, séria fazer uma coleta de dados experimentais por um período de tempo maior."
   ]
  },
  {
   "cell_type": "markdown",
   "id": "3914a38b",
   "metadata": {},
   "source": [
    "## Total de dados coletados"
   ]
  },
  {
   "cell_type": "code",
   "execution_count": 136,
   "id": "9f3863f6",
   "metadata": {},
   "outputs": [
    {
     "data": {
      "text/plain": [
       "old_page    0.5\n",
       "new_page    0.5\n",
       "Name: landing_page, dtype: float64"
      ]
     },
     "execution_count": 136,
     "metadata": {},
     "output_type": "execute_result"
    }
   ],
   "source": [
    "dados['landing_page'].value_counts(normalize=True)"
   ]
  },
  {
   "cell_type": "code",
   "execution_count": 137,
   "id": "b7f7a448",
   "metadata": {},
   "outputs": [
    {
     "data": {
      "text/plain": [
       "old_page    147239\n",
       "new_page    147239\n",
       "Name: landing_page, dtype: int64"
      ]
     },
     "execution_count": 137,
     "metadata": {},
     "output_type": "execute_result"
    }
   ],
   "source": [
    "dados['landing_page'].value_counts()"
   ]
  },
  {
   "cell_type": "markdown",
   "id": "99ff9132",
   "metadata": {},
   "source": [
    "## Vendas convertidas na página antiga"
   ]
  },
  {
   "cell_type": "code",
   "execution_count": 138,
   "id": "18afd137",
   "metadata": {},
   "outputs": [
    {
     "data": {
      "text/plain": [
       "0    0.879522\n",
       "1    0.120478\n",
       "Name: converted, dtype: float64"
      ]
     },
     "execution_count": 138,
     "metadata": {},
     "output_type": "execute_result"
    }
   ],
   "source": [
    "old_page = dados[dados['landing_page'] == 'old_page']['converted']\n",
    "old_page.value_counts(normalize=True)"
   ]
  },
  {
   "cell_type": "code",
   "execution_count": 139,
   "id": "677f0381",
   "metadata": {},
   "outputs": [
    {
     "data": {
      "text/plain": [
       "0    129500\n",
       "1     17739\n",
       "Name: converted, dtype: int64"
      ]
     },
     "execution_count": 139,
     "metadata": {},
     "output_type": "execute_result"
    }
   ],
   "source": [
    "old_page = dados[dados['landing_page'] == 'old_page']['converted']\n",
    "old_page.value_counts()"
   ]
  },
  {
   "cell_type": "markdown",
   "id": "2bfc9ac4",
   "metadata": {},
   "source": [
    "## Vendas convertidas na página nova"
   ]
  },
  {
   "cell_type": "code",
   "execution_count": 140,
   "id": "8fc4c928",
   "metadata": {},
   "outputs": [
    {
     "data": {
      "text/plain": [
       "0    0.881159\n",
       "1    0.118841\n",
       "Name: converted, dtype: float64"
      ]
     },
     "execution_count": 140,
     "metadata": {},
     "output_type": "execute_result"
    }
   ],
   "source": [
    "new_page = dados[dados['landing_page'] == 'new_page']['converted']\n",
    "new_page.value_counts(normalize=True)"
   ]
  },
  {
   "cell_type": "code",
   "execution_count": 141,
   "id": "44f9224d",
   "metadata": {},
   "outputs": [
    {
     "data": {
      "text/plain": [
       "0    129741\n",
       "1     17498\n",
       "Name: converted, dtype: int64"
      ]
     },
     "execution_count": 141,
     "metadata": {},
     "output_type": "execute_result"
    }
   ],
   "source": [
    "new_page = dados[dados['landing_page'] == 'new_page']['converted']\n",
    "new_page.value_counts()"
   ]
  },
  {
   "cell_type": "markdown",
   "id": "f3d40087",
   "metadata": {},
   "source": [
    "# Aplicação de teste A/B"
   ]
  },
  {
   "cell_type": "code",
   "execution_count": 142,
   "id": "3cba8616",
   "metadata": {},
   "outputs": [
    {
     "data": {
      "text/plain": [
       "-241"
      ]
     },
     "execution_count": 142,
     "metadata": {},
     "output_type": "execute_result"
    }
   ],
   "source": [
    "new_page.value_counts()[1] - old_page.value_counts()[1] "
   ]
  },
  {
   "cell_type": "markdown",
   "id": "5bac860a",
   "metadata": {},
   "source": [
    "Nota-se que ouve uma queda na quantidade de conversões da página antiga para a página nova.\n",
    "\n",
    "O teste de hipótese realizado, verifica se essa diferença possue valor estatístico significativo.\n",
    "\n",
    "A hipótese nula afirma que quantidade de conversões na página antiga é igual a quantidade de conversões na página nova."
   ]
  },
  {
   "cell_type": "code",
   "execution_count": 143,
   "id": "ee6a64c9",
   "metadata": {},
   "outputs": [],
   "source": [
    "def normal_cdf(x:float,mu:float=0,sigma:float=1):\n",
    "    return (1+math.erf((x-mu)/math.sqrt(2)/sigma))/2\n",
    "def normal_probality_below(x:float,mu:float=0,sigma:float=1):\n",
    "    return normal_cdf(x,mu,sigma)\n",
    "def normal_probality_above(lo:float,mu:float=0,sigma:float=1):\n",
    "    return 1-normal_cdf(lo,mu,sigma)\n",
    "def tow_sided_p_value(x:float,mu:float=0,sigma:float=1):\n",
    "    if x>=mu:\n",
    "        return 2*normal_probality_above(x,mu,sigma)\n",
    "    else:\n",
    "        return 2*normal_probality_below(x,mu,sigma)"
   ]
  },
  {
   "cell_type": "code",
   "execution_count": 144,
   "id": "f52fef50",
   "metadata": {},
   "outputs": [],
   "source": [
    "def estimated_parameters(N,n):\n",
    "    p = n/N\n",
    "    sigma = math.sqrt(p*(1-p)/N)\n",
    "    return p, sigma\n",
    "def a_b_test_statistic(N_a,n_a,N_b,n_b):\n",
    "    p_a,sigma_a = estimated_parameters(N_a,n_a)\n",
    "    p_b,sigma_b = estimated_parameters(N_b,n_b)\n",
    "    return (p_b-p_a)/math.sqrt(sigma_a**2+sigma_b**2)"
   ]
  },
  {
   "cell_type": "code",
   "execution_count": 145,
   "id": "0a1316ee",
   "metadata": {},
   "outputs": [
    {
     "name": "stdout",
     "output_type": "stream",
     "text": [
      "N_a = 147239 (Quantidade de vizualições na página antiga)\n",
      "N_b = 147239 (Quantidade de vizualições na página nova)\n",
      "n_a = 17739 (Quantidade de convertidos na página antiga)\n",
      "n_b = 17498 (Quantidade de convertidos na página nova)\n"
     ]
    }
   ],
   "source": [
    "N_a = dados['landing_page'].value_counts()[0]  # old_page\n",
    "print(f'N_a = {N_a} (Quantidade de vizualições na página antiga)')\n",
    "N_b = dados['landing_page'].value_counts()[1]  # new_page\n",
    "print(f'N_b = {N_b} (Quantidade de vizualições na página nova)')\n",
    "n_a = old_page.value_counts()[1]\n",
    "print(f'n_a = {n_a} (Quantidade de convertidos na página antiga)')\n",
    "n_b = new_page.value_counts()[1]\n",
    "print(f'n_b = {n_b} (Quantidade de convertidos na página nova)')"
   ]
  },
  {
   "cell_type": "code",
   "execution_count": 146,
   "id": "19e35d5a",
   "metadata": {},
   "outputs": [
    {
     "data": {
      "text/plain": [
       "-1.368338490064514"
      ]
     },
     "execution_count": 146,
     "metadata": {},
     "output_type": "execute_result"
    }
   ],
   "source": [
    "z = a_b_test_statistic(N_a,n_a,N_b,n_b)\n",
    "z"
   ]
  },
  {
   "cell_type": "code",
   "execution_count": 147,
   "id": "b7396c3f",
   "metadata": {},
   "outputs": [
    {
     "data": {
      "text/plain": [
       "0.17120614808294943"
      ]
     },
     "execution_count": 147,
     "metadata": {},
     "output_type": "execute_result"
    }
   ],
   "source": [
    "tow_sided_p_value(z)"
   ]
  },
  {
   "cell_type": "markdown",
   "id": "bae36697",
   "metadata": {},
   "source": [
    "### CONCLUSÃO\n",
    "Considerando um valor de significancia igual a 5%, aceita-se a hipótese nula afirmando que a diferença encontrada nos dados não possui valor estatístico significativo."
   ]
  },
  {
   "cell_type": "code",
   "execution_count": null,
   "id": "4d4b471d",
   "metadata": {},
   "outputs": [],
   "source": []
  }
 ],
 "metadata": {
  "kernelspec": {
   "display_name": "Python 3 (ipykernel)",
   "language": "python",
   "name": "python3"
  },
  "language_info": {
   "codemirror_mode": {
    "name": "ipython",
    "version": 3
   },
   "file_extension": ".py",
   "mimetype": "text/x-python",
   "name": "python",
   "nbconvert_exporter": "python",
   "pygments_lexer": "ipython3",
   "version": "3.9.13"
  }
 },
 "nbformat": 4,
 "nbformat_minor": 5
}
